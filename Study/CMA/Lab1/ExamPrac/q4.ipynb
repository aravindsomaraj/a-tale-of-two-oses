{
 "cells": [
  {
   "cell_type": "code",
   "execution_count": 35,
   "metadata": {},
   "outputs": [],
   "source": [
    "import random"
   ]
  },
  {
   "cell_type": "code",
   "execution_count": 36,
   "metadata": {},
   "outputs": [],
   "source": [
    "class RowVectorFloat:\n",
    "    def __init__(self,elements):\n",
    "        self.elements = list(elements)\n",
    "    \n",
    "    def __str__(self):\n",
    "        return ' '.join(map(str,self.elements))\n",
    "    \n",
    "    def __len__(self):\n",
    "        return len(self.elements)\n",
    "\n",
    "    def __getitem__(self, index):\n",
    "        return self.elements[index]\n",
    "    \n",
    "    def __setitem__(self, index, value):\n",
    "        self.elements[index] = value\n",
    "\n",
    "    def __add__(self,other):\n",
    "        if len(self) != len(other):\n",
    "            raise Exception(\"Vector dimensions must match for addition\")\n",
    "        new_elements = [x + y for x,y in zip(self.elements,other.elements)]\n",
    "        return RowVectorFloat(new_elements)\n",
    "    \n",
    "    def __sub__(self,other):\n",
    "        if len(self) != len(other):\n",
    "            raise Exception(\"Vector dimensions must match for addition\")\n",
    "        new_elements = [x - y for x,y in zip(self.elements,other.elements)]\n",
    "        return RowVectorFloat(new_elements)\n",
    "    \n",
    "    def __mul__(self,scalar):\n",
    "        new_elements = [x*scalar for x in self.elements]\n",
    "        return RowVectorFloat(new_elements)\n",
    "\n",
    "    def __rmul__(self,scalar):\n",
    "        return self.__mul__(scalar)\n",
    "    \n",
    "\n"
   ]
  },
  {
   "cell_type": "code",
   "execution_count": 46,
   "metadata": {},
   "outputs": [],
   "source": [
    "class SquareMatrixFloat:\n",
    "    def __init__(self, n):\n",
    "        self.matrix = [RowVectorFloat([0] * n) for _ in range(n)]\n",
    "        self.size = n\n",
    "    \n",
    "    def __str__(self):\n",
    "        s = \"The matrix is: \\n\"\n",
    "        s = s + '\\n'.join(['\\t'.join([f\"{elem:.2f}\" if elem != 0 else '0' for elem in row.elements]) for row in self.matrix])\n",
    "        return s\n",
    "    \n",
    "    def sampleSymmetric(self):\n",
    "        for i in range(self.size):\n",
    "            for j in range(i,self.size):\n",
    "                if i == j:\n",
    "                    self.matrix[i][j] = random.uniform(0,self.size)\n",
    "                else:\n",
    "                    self.matrix[i][j] = self.matrix[j][i] = random.random()\n",
    "\n",
    "    def toRowEchelonForm(self):\n",
    "        pivot = 0\n",
    "        for i in range(self.size):\n",
    "            pivot_row = None\n",
    "            for j in range(i,self.size):\n",
    "                if self.matrix[j][pivot] != 0:\n",
    "                    pivot_row = j\n",
    "                    break\n",
    "            \n",
    "            # Swapping as necessary\n",
    "            if pivot_row is not None:\n",
    "                self.matrix[i], self.matrix[pivot_row] = self.matrix[pivot_row], self.matrix[i]\n",
    "            else:\n",
    "                continue\n",
    "\n",
    "            # Scaling\n",
    "            pivot_element = self.matrix[i][pivot]\n",
    "            self.matrix[i]= self.matrix[i] * (1/pivot_element)\n",
    "\n",
    "            # Under-rows refactoring\n",
    "            for j in range(i+1,self.size):\n",
    "                factor = self.matrix[j][pivot]\n",
    "                self.matrix[j] = self.matrix[j] - (self.matrix[i]*factor)\n",
    "\n",
    "            pivot += 1\n",
    "\n",
    "    def isDRDominant(self):\n",
    "        for i in range(len(self.matrix)):\n",
    "            diagonal_value = self.matrix[i].elements[i]\n",
    "            row_sum = sum(abs(self.matrix[i].elements[j]) for j in range(self.size) if i != j)\n",
    "\n",
    "            if(row_sum > diagonal_value):\n",
    "                return False\n",
    "        return True"
   ]
  },
  {
   "cell_type": "code",
   "execution_count": 54,
   "metadata": {},
   "outputs": [
    {
     "name": "stdout",
     "output_type": "stream",
     "text": [
      "True\n",
      "The matrix is: \n",
      "2.41\t0.49\t0.31\t0.01\n",
      "0.49\t2.14\t0.25\t0.80\n",
      "0.31\t0.25\t1.59\t0.86\n",
      "0.01\t0.80\t0.86\t1.98\n"
     ]
    }
   ],
   "source": [
    "s = SquareMatrixFloat(4)\n",
    "s.sampleSymmetric()\n",
    "print(s.isDRDominant())\n",
    "print(s)"
   ]
  }
 ],
 "metadata": {
  "kernelspec": {
   "display_name": ".venv",
   "language": "python",
   "name": "python3"
  },
  "language_info": {
   "codemirror_mode": {
    "name": "ipython",
    "version": 3
   },
   "file_extension": ".py",
   "mimetype": "text/x-python",
   "name": "python",
   "nbconvert_exporter": "python",
   "pygments_lexer": "ipython3",
   "version": "3.11.6"
  }
 },
 "nbformat": 4,
 "nbformat_minor": 2
}
